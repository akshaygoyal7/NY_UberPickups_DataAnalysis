{
 "cells": [
  {
   "cell_type": "markdown",
   "id": "a54977a1",
   "metadata": {},
   "source": [
    "## Importing libraries "
   ]
  },
  {
   "cell_type": "code",
   "execution_count": 2,
   "id": "1ff37163",
   "metadata": {},
   "outputs": [],
   "source": [
    "import pandas as pd\n",
    "import numpy as np\n",
    "import matplotlib.pyplot as plt \n",
    "from sklearn.preprocessing import LabelBinarizer\n",
    "import datetime\n",
    "from matplotlib import colors\n",
    "from matplotlib.ticker import PercentFormatter\n",
    "import seaborn as sns"
   ]
  },
  {
   "cell_type": "markdown",
   "id": "9a08ecf3",
   "metadata": {},
   "source": [
    "### Loading the dataset in a pandas data frame "
   ]
  },
  {
   "cell_type": "code",
   "execution_count": 3,
   "id": "f1dfa131",
   "metadata": {},
   "outputs": [
    {
     "data": {
      "text/html": [
       "<div>\n",
       "<style scoped>\n",
       "    .dataframe tbody tr th:only-of-type {\n",
       "        vertical-align: middle;\n",
       "    }\n",
       "\n",
       "    .dataframe tbody tr th {\n",
       "        vertical-align: top;\n",
       "    }\n",
       "\n",
       "    .dataframe thead th {\n",
       "        text-align: right;\n",
       "    }\n",
       "</style>\n",
       "<table border=\"1\" class=\"dataframe\">\n",
       "  <thead>\n",
       "    <tr style=\"text-align: right;\">\n",
       "      <th></th>\n",
       "      <th>pickup_dt</th>\n",
       "      <th>borough</th>\n",
       "      <th>pickups</th>\n",
       "      <th>spd</th>\n",
       "      <th>vsb</th>\n",
       "      <th>temp</th>\n",
       "      <th>dewp</th>\n",
       "      <th>slp</th>\n",
       "      <th>pcp01</th>\n",
       "      <th>pcp06</th>\n",
       "      <th>pcp24</th>\n",
       "      <th>sd</th>\n",
       "      <th>hday</th>\n",
       "    </tr>\n",
       "  </thead>\n",
       "  <tbody>\n",
       "    <tr>\n",
       "      <th>0</th>\n",
       "      <td>1/1/2015 1:00</td>\n",
       "      <td>Bronx</td>\n",
       "      <td>NaN</td>\n",
       "      <td>5.0</td>\n",
       "      <td>10.0</td>\n",
       "      <td>30.0</td>\n",
       "      <td>7.0</td>\n",
       "      <td>1023.5</td>\n",
       "      <td>0.0</td>\n",
       "      <td>0.0</td>\n",
       "      <td>0.0</td>\n",
       "      <td>0.0</td>\n",
       "      <td>Y</td>\n",
       "    </tr>\n",
       "    <tr>\n",
       "      <th>1</th>\n",
       "      <td>1/1/2015 1:00</td>\n",
       "      <td>Brooklyn</td>\n",
       "      <td>NaN</td>\n",
       "      <td>5.0</td>\n",
       "      <td>10.0</td>\n",
       "      <td>30.0</td>\n",
       "      <td>7.0</td>\n",
       "      <td>1023.5</td>\n",
       "      <td>0.0</td>\n",
       "      <td>0.0</td>\n",
       "      <td>0.0</td>\n",
       "      <td>0.0</td>\n",
       "      <td>Y</td>\n",
       "    </tr>\n",
       "    <tr>\n",
       "      <th>2</th>\n",
       "      <td>1/1/2015 1:00</td>\n",
       "      <td>EWR</td>\n",
       "      <td>NaN</td>\n",
       "      <td>5.0</td>\n",
       "      <td>10.0</td>\n",
       "      <td>30.0</td>\n",
       "      <td>7.0</td>\n",
       "      <td>1023.5</td>\n",
       "      <td>0.0</td>\n",
       "      <td>0.0</td>\n",
       "      <td>0.0</td>\n",
       "      <td>0.0</td>\n",
       "      <td>Y</td>\n",
       "    </tr>\n",
       "    <tr>\n",
       "      <th>3</th>\n",
       "      <td>1/1/2015 1:00</td>\n",
       "      <td>Manhattan</td>\n",
       "      <td>NaN</td>\n",
       "      <td>5.0</td>\n",
       "      <td>10.0</td>\n",
       "      <td>30.0</td>\n",
       "      <td>7.0</td>\n",
       "      <td>1023.5</td>\n",
       "      <td>0.0</td>\n",
       "      <td>0.0</td>\n",
       "      <td>0.0</td>\n",
       "      <td>0.0</td>\n",
       "      <td>Y</td>\n",
       "    </tr>\n",
       "    <tr>\n",
       "      <th>4</th>\n",
       "      <td>1/1/2015 1:00</td>\n",
       "      <td>Queens</td>\n",
       "      <td>NaN</td>\n",
       "      <td>5.0</td>\n",
       "      <td>10.0</td>\n",
       "      <td>30.0</td>\n",
       "      <td>7.0</td>\n",
       "      <td>1023.5</td>\n",
       "      <td>0.0</td>\n",
       "      <td>0.0</td>\n",
       "      <td>0.0</td>\n",
       "      <td>0.0</td>\n",
       "      <td>Y</td>\n",
       "    </tr>\n",
       "  </tbody>\n",
       "</table>\n",
       "</div>"
      ],
      "text/plain": [
       "       pickup_dt    borough  pickups  spd   vsb  temp  dewp     slp  pcp01  \\\n",
       "0  1/1/2015 1:00      Bronx      NaN  5.0  10.0  30.0   7.0  1023.5    0.0   \n",
       "1  1/1/2015 1:00   Brooklyn      NaN  5.0  10.0  30.0   7.0  1023.5    0.0   \n",
       "2  1/1/2015 1:00        EWR      NaN  5.0  10.0  30.0   7.0  1023.5    0.0   \n",
       "3  1/1/2015 1:00  Manhattan      NaN  5.0  10.0  30.0   7.0  1023.5    0.0   \n",
       "4  1/1/2015 1:00     Queens      NaN  5.0  10.0  30.0   7.0  1023.5    0.0   \n",
       "\n",
       "   pcp06  pcp24   sd hday  \n",
       "0    0.0    0.0  0.0    Y  \n",
       "1    0.0    0.0  0.0    Y  \n",
       "2    0.0    0.0  0.0    Y  \n",
       "3    0.0    0.0  0.0    Y  \n",
       "4    0.0    0.0  0.0    Y  "
      ]
     },
     "execution_count": 3,
     "metadata": {},
     "output_type": "execute_result"
    }
   ],
   "source": [
    "df1 = pd.read_csv(\"/Users/akshaygoyal/python/pr_final.csv\")\n",
    "df1.head()"
   ]
  },
  {
   "cell_type": "code",
   "execution_count": 4,
   "id": "07169cab",
   "metadata": {
    "scrolled": true
   },
   "outputs": [
    {
     "data": {
      "text/plain": [
       "(29101, 13)"
      ]
     },
     "execution_count": 4,
     "metadata": {},
     "output_type": "execute_result"
    }
   ],
   "source": [
    "df1.shape"
   ]
  },
  {
   "cell_type": "markdown",
   "id": "666bb3f3",
   "metadata": {},
   "source": [
    "There are a total of 29,101 rows and 13 columns in the dataset"
   ]
  },
  {
   "cell_type": "code",
   "execution_count": 5,
   "id": "66d23163",
   "metadata": {
    "scrolled": true
   },
   "outputs": [
    {
     "data": {
      "text/plain": [
       "Index(['pickup_dt', 'borough', 'pickups', 'spd', 'vsb', 'temp', 'dewp', 'slp',\n",
       "       'pcp01', 'pcp06', 'pcp24', 'sd', 'hday'],\n",
       "      dtype='object')"
      ]
     },
     "execution_count": 5,
     "metadata": {},
     "output_type": "execute_result"
    }
   ],
   "source": [
    "df1.columns"
   ]
  },
  {
   "cell_type": "markdown",
   "id": "5f1d1ac8",
   "metadata": {},
   "source": [
    "### Sources of data and types of data"
   ]
  },
  {
   "cell_type": "code",
   "execution_count": 6,
   "id": "621ebbe8",
   "metadata": {
    "scrolled": true
   },
   "outputs": [
    {
     "name": "stdout",
     "output_type": "stream",
     "text": [
      "<class 'pandas.core.frame.DataFrame'>\n",
      "RangeIndex: 29101 entries, 0 to 29100\n",
      "Data columns (total 13 columns):\n",
      " #   Column     Non-Null Count  Dtype  \n",
      "---  ------     --------------  -----  \n",
      " 0   pickup_dt  29101 non-null  object \n",
      " 1   borough    28965 non-null  object \n",
      " 2   pickups    28973 non-null  float64\n",
      " 3   spd        28933 non-null  float64\n",
      " 4   vsb        28951 non-null  float64\n",
      " 5   temp       28992 non-null  float64\n",
      " 6   dewp       28959 non-null  float64\n",
      " 7   slp        28998 non-null  float64\n",
      " 8   pcp01      28976 non-null  float64\n",
      " 9   pcp06      28979 non-null  float64\n",
      " 10  pcp24      28984 non-null  float64\n",
      " 11  sd         28980 non-null  float64\n",
      " 12  hday       28952 non-null  object \n",
      "dtypes: float64(10), object(3)\n",
      "memory usage: 2.9+ MB\n"
     ]
    }
   ],
   "source": [
    "df1.info()"
   ]
  },
  {
   "cell_type": "markdown",
   "id": "94c3e22d",
   "metadata": {},
   "source": [
    "The dataset contains data from various sources related to uber pickups in New York city:\n",
    "- Demographic information: borough(names of different places in New York)\n",
    "\n",
    "- Weather information: \n",
    " - spd(wind speed in miles per hour)\n",
    " - temp (temperature)\n",
    " - vsb (visibility)\n",
    " - avg precipitation in 1 hr, 6hr, 24hr (pcp01,pcp06,pcp24)\n",
    " - sd (snow depth)\n",
    " - slp(sea level pressure) \n",
    " - dewp(dew point)\n",
    "- Time information: pickup_dt(Time period of observations), hday(whethere is was a holiday or not)\n",
    "\n",
    "- Columns containing discrete values: borough, hday\n",
    "- Columns containing floar and integer values: spd, vsb, temp, dewp, pcp01, pcp06, pcp24"
   ]
  },
  {
   "cell_type": "markdown",
   "id": "3a3952eb",
   "metadata": {},
   "source": [
    "## Checking if there are any missing/null values in the dataset"
   ]
  },
  {
   "cell_type": "markdown",
   "id": "c60c8136",
   "metadata": {},
   "source": [
    "### Total percentage of missing values in the dataset"
   ]
  },
  {
   "cell_type": "code",
   "execution_count": 7,
   "id": "b6c62b7b",
   "metadata": {
    "scrolled": false
   },
   "outputs": [
    {
     "data": {
      "text/plain": [
       "0.4150002775479563"
      ]
     },
     "execution_count": 7,
     "metadata": {},
     "output_type": "execute_result"
    }
   ],
   "source": [
    "df1.isna().sum().sum()/df1.size*100 "
   ]
  },
  {
   "cell_type": "markdown",
   "id": "183bc9fc",
   "metadata": {},
   "source": [
    "## Imputation"
   ]
  },
  {
   "cell_type": "code",
   "execution_count": 8,
   "id": "e145df52",
   "metadata": {},
   "outputs": [
    {
     "data": {
      "text/plain": [
       "array(['Bronx', 'Brooklyn', 'EWR', 'Manhattan', 'Queens', 'Staten Island',\n",
       "       nan], dtype=object)"
      ]
     },
     "execution_count": 8,
     "metadata": {},
     "output_type": "execute_result"
    }
   ],
   "source": [
    "df1.borough.unique()  #unique locations in dataset"
   ]
  },
  {
   "cell_type": "code",
   "execution_count": 9,
   "id": "34463419",
   "metadata": {},
   "outputs": [
    {
     "data": {
      "text/plain": [
       "0    N\n",
       "dtype: object"
      ]
     },
     "execution_count": 9,
     "metadata": {},
     "output_type": "execute_result"
    }
   ],
   "source": [
    "df1['hday'].mode()"
   ]
  },
  {
   "cell_type": "code",
   "execution_count": 10,
   "id": "b1aab0dc",
   "metadata": {},
   "outputs": [],
   "source": [
    "df1['hday'].fillna(df1['hday'].mode()[0], inplace= True) #Filled hildays with mode"
   ]
  },
  {
   "cell_type": "code",
   "execution_count": 11,
   "id": "2075240e",
   "metadata": {},
   "outputs": [
    {
     "data": {
      "text/plain": [
       "hday   \n",
       "N     0    Bronx\n",
       "Y     0    Bronx\n",
       "Name: borough, dtype: object"
      ]
     },
     "execution_count": 11,
     "metadata": {},
     "output_type": "execute_result"
    }
   ],
   "source": [
    "##checking mode for holiday and working day\n",
    "df1.groupby(['hday'])['borough'].apply(pd.Series.mode)"
   ]
  },
  {
   "cell_type": "code",
   "execution_count": 12,
   "id": "ff6dd21e",
   "metadata": {},
   "outputs": [],
   "source": [
    "#filled in missing value based on whether it is a holiday or a weekday.\n",
    "df1['borough'] = df1.groupby(['hday'], sort=False)['borough'].apply(lambda x: x.fillna(x.mode().iloc[0]))\n",
    "\n",
    "\n"
   ]
  },
  {
   "cell_type": "code",
   "execution_count": 13,
   "id": "24124f58",
   "metadata": {},
   "outputs": [],
   "source": [
    "df1['spd'] = df1.groupby('borough')['spd'].transform(lambda x: x.fillna(x.mean()))\n",
    "df1['vsb'] = df1.groupby('borough')['vsb'].transform(lambda x: x.fillna(x.mean()))\n",
    "df1['temp'] = df1.groupby('borough')['temp'].transform(lambda x: x.fillna(x.mean()))\n",
    "df1['dewp'] = df1.groupby('borough')['dewp'].transform(lambda x: x.fillna(x.mean()))\n",
    "df1['slp'] = df1.groupby('borough')['slp'].transform(lambda x: x.fillna(x.mean()))\n",
    "df1['pcp01'] = df1.groupby('borough')['pcp01'].transform(lambda x: x.fillna(x.mean()))\n",
    "df1['pcp06'] = df1.groupby('borough')['pcp06'].transform(lambda x: x.fillna(x.mean()))\n",
    "df1['pcp24'] = df1.groupby('borough')['pcp24'].transform(lambda x: x.fillna(x.mean()))\n",
    "df1['sd'] = df1.groupby('borough')['sd'].transform(lambda x: x.fillna(x.mean()))"
   ]
  },
  {
   "cell_type": "markdown",
   "id": "d88f93a1",
   "metadata": {},
   "source": [
    "Filled in Pickups based on the day whether it is holiday or not. and filled in with the mean of a holiday or a weekday.\n"
   ]
  },
  {
   "cell_type": "code",
   "execution_count": 15,
   "id": "defbb527",
   "metadata": {},
   "outputs": [
    {
     "data": {
      "text/plain": [
       "490.7464881096193"
      ]
     },
     "execution_count": 15,
     "metadata": {},
     "output_type": "execute_result"
    }
   ],
   "source": [
    "df1.pickups.mean()"
   ]
  },
  {
   "cell_type": "code",
   "execution_count": 17,
   "id": "659c0843",
   "metadata": {},
   "outputs": [
    {
     "data": {
      "text/plain": [
       "hday\n",
       "N    492.339957\n",
       "Y    445.846928\n",
       "Name: pickups, dtype: float64"
      ]
     },
     "execution_count": 17,
     "metadata": {},
     "output_type": "execute_result"
    }
   ],
   "source": [
    "##checking mean for holiday and working day\n",
    "df1.groupby(['hday'])['pickups'].mean()"
   ]
  },
  {
   "cell_type": "code",
   "execution_count": 18,
   "id": "cd1c3dd7",
   "metadata": {},
   "outputs": [],
   "source": [
    "#filled in missing value based on whether it is a holiday or a weekday.\n",
    "df1['pickups'] = df1.groupby(['hday'], sort=False)['pickups'].apply(lambda x: x.fillna(x.mean()))\n"
   ]
  },
  {
   "cell_type": "code",
   "execution_count": 19,
   "id": "370bb03c",
   "metadata": {},
   "outputs": [
    {
     "data": {
      "text/plain": [
       "pickup_dt    0\n",
       "borough      0\n",
       "pickups      0\n",
       "spd          0\n",
       "vsb          0\n",
       "temp         0\n",
       "dewp         0\n",
       "slp          0\n",
       "pcp01        0\n",
       "pcp06        0\n",
       "pcp24        0\n",
       "sd           0\n",
       "hday         0\n",
       "dtype: int64"
      ]
     },
     "execution_count": 19,
     "metadata": {},
     "output_type": "execute_result"
    }
   ],
   "source": [
    "df1.isna().sum()"
   ]
  },
  {
   "cell_type": "markdown",
   "id": "bb9ce6ba",
   "metadata": {},
   "source": [
    "We decided to plot an correlation bar chart to understand what factors actually affect the number of pickups "
   ]
  },
  {
   "cell_type": "markdown",
   "id": "9a04650b",
   "metadata": {},
   "source": [
    "## Deciding upon the necessary columns in the data"
   ]
  },
  {
   "cell_type": "code",
   "execution_count": 20,
   "id": "a0159fba",
   "metadata": {
    "scrolled": false
   },
   "outputs": [
    {
     "data": {
      "text/plain": [
       "<AxesSubplot:>"
      ]
     },
     "execution_count": 20,
     "metadata": {},
     "output_type": "execute_result"
    },
    {
     "data": {
      "image/png": "[encoded data removed]",
      "text/plain": [
       "<Figure size 1080x576 with 1 Axes>"
      ]
     },
     "metadata": {
      "needs_background": "light"
     },
     "output_type": "display_data"
    }
   ],
   "source": [
    "plt.figure(figsize=(15,8))\n",
    "df1.corr()['pickups'].sort_values(ascending = False).plot(kind='bar')"
   ]
  },
  {
   "cell_type": "markdown",
   "id": "abac2b42",
   "metadata": {},
   "source": [
    "1. Columns such as temp, dwp, spd are positively correlated with the number of pickups which means number of pickups increase as these coloumns value increases\n",
    "2. Columns such as slp and pcp24 are negatively correlayed with the number of pickups which means number of pickups decrease as these coloumns value decreases\n",
    "3. We decided to drop pcp01, pcp06 columns as they have almost zero corrleation with the number of pickups and they contain redundant information about precipitation"
   ]
  },
  {
   "cell_type": "markdown",
   "id": "8707b0eb",
   "metadata": {},
   "source": [
    "### Dropping pcp01, pcp06 coloumns"
   ]
  },
  {
   "cell_type": "code",
   "execution_count": 21,
   "id": "80b12199",
   "metadata": {},
   "outputs": [
    {
     "data": {
      "text/html": [
       "<div>\n",
       "<style scoped>\n",
       "    .dataframe tbody tr th:only-of-type {\n",
       "        vertical-align: middle;\n",
       "    }\n",
       "\n",
       "    .dataframe tbody tr th {\n",
       "        vertical-align: top;\n",
       "    }\n",
       "\n",
       "    .dataframe thead th {\n",
       "        text-align: right;\n",
       "    }\n",
       "</style>\n",
       "<table border=\"1\" class=\"dataframe\">\n",
       "  <thead>\n",
       "    <tr style=\"text-align: right;\">\n",
       "      <th></th>\n",
       "      <th>pickup_dt</th>\n",
       "      <th>borough</th>\n",
       "      <th>pickups</th>\n",
       "      <th>spd</th>\n",
       "      <th>vsb</th>\n",
       "      <th>temp</th>\n",
       "      <th>dewp</th>\n",
       "      <th>slp</th>\n",
       "      <th>pcp24</th>\n",
       "      <th>sd</th>\n",
       "      <th>hday</th>\n",
       "    </tr>\n",
       "  </thead>\n",
       "  <tbody>\n",
       "    <tr>\n",
       "      <th>0</th>\n",
       "      <td>1/1/2015 1:00</td>\n",
       "      <td>Bronx</td>\n",
       "      <td>445.846928</td>\n",
       "      <td>5.0</td>\n",
       "      <td>10.000000</td>\n",
       "      <td>30.0</td>\n",
       "      <td>7.0</td>\n",
       "      <td>1023.5</td>\n",
       "      <td>0.0</td>\n",
       "      <td>0.0</td>\n",
       "      <td>Y</td>\n",
       "    </tr>\n",
       "    <tr>\n",
       "      <th>1</th>\n",
       "      <td>1/1/2015 1:00</td>\n",
       "      <td>Brooklyn</td>\n",
       "      <td>445.846928</td>\n",
       "      <td>5.0</td>\n",
       "      <td>10.000000</td>\n",
       "      <td>30.0</td>\n",
       "      <td>7.0</td>\n",
       "      <td>1023.5</td>\n",
       "      <td>0.0</td>\n",
       "      <td>0.0</td>\n",
       "      <td>Y</td>\n",
       "    </tr>\n",
       "    <tr>\n",
       "      <th>2</th>\n",
       "      <td>1/1/2015 1:00</td>\n",
       "      <td>EWR</td>\n",
       "      <td>445.846928</td>\n",
       "      <td>5.0</td>\n",
       "      <td>10.000000</td>\n",
       "      <td>30.0</td>\n",
       "      <td>7.0</td>\n",
       "      <td>1023.5</td>\n",
       "      <td>0.0</td>\n",
       "      <td>0.0</td>\n",
       "      <td>Y</td>\n",
       "    </tr>\n",
       "    <tr>\n",
       "      <th>3</th>\n",
       "      <td>1/1/2015 1:00</td>\n",
       "      <td>Manhattan</td>\n",
       "      <td>445.846928</td>\n",
       "      <td>5.0</td>\n",
       "      <td>10.000000</td>\n",
       "      <td>30.0</td>\n",
       "      <td>7.0</td>\n",
       "      <td>1023.5</td>\n",
       "      <td>0.0</td>\n",
       "      <td>0.0</td>\n",
       "      <td>Y</td>\n",
       "    </tr>\n",
       "    <tr>\n",
       "      <th>4</th>\n",
       "      <td>1/1/2015 1:00</td>\n",
       "      <td>Queens</td>\n",
       "      <td>445.846928</td>\n",
       "      <td>5.0</td>\n",
       "      <td>10.000000</td>\n",
       "      <td>30.0</td>\n",
       "      <td>7.0</td>\n",
       "      <td>1023.5</td>\n",
       "      <td>0.0</td>\n",
       "      <td>0.0</td>\n",
       "      <td>Y</td>\n",
       "    </tr>\n",
       "    <tr>\n",
       "      <th>...</th>\n",
       "      <td>...</td>\n",
       "      <td>...</td>\n",
       "      <td>...</td>\n",
       "      <td>...</td>\n",
       "      <td>...</td>\n",
       "      <td>...</td>\n",
       "      <td>...</td>\n",
       "      <td>...</td>\n",
       "      <td>...</td>\n",
       "      <td>...</td>\n",
       "      <td>...</td>\n",
       "    </tr>\n",
       "    <tr>\n",
       "      <th>29096</th>\n",
       "      <td>6/30/2015 23:00</td>\n",
       "      <td>EWR</td>\n",
       "      <td>0.000000</td>\n",
       "      <td>7.0</td>\n",
       "      <td>8.808227</td>\n",
       "      <td>75.0</td>\n",
       "      <td>65.0</td>\n",
       "      <td>1011.8</td>\n",
       "      <td>0.0</td>\n",
       "      <td>0.0</td>\n",
       "      <td>N</td>\n",
       "    </tr>\n",
       "    <tr>\n",
       "      <th>29097</th>\n",
       "      <td>6/30/2015 23:00</td>\n",
       "      <td>Manhattan</td>\n",
       "      <td>3828.000000</td>\n",
       "      <td>7.0</td>\n",
       "      <td>8.808227</td>\n",
       "      <td>75.0</td>\n",
       "      <td>65.0</td>\n",
       "      <td>1011.8</td>\n",
       "      <td>0.0</td>\n",
       "      <td>0.0</td>\n",
       "      <td>N</td>\n",
       "    </tr>\n",
       "    <tr>\n",
       "      <th>29098</th>\n",
       "      <td>6/30/2015 23:00</td>\n",
       "      <td>Queens</td>\n",
       "      <td>580.000000</td>\n",
       "      <td>7.0</td>\n",
       "      <td>8.808227</td>\n",
       "      <td>75.0</td>\n",
       "      <td>65.0</td>\n",
       "      <td>1011.8</td>\n",
       "      <td>0.0</td>\n",
       "      <td>0.0</td>\n",
       "      <td>N</td>\n",
       "    </tr>\n",
       "    <tr>\n",
       "      <th>29099</th>\n",
       "      <td>6/30/2015 23:00</td>\n",
       "      <td>Staten Island</td>\n",
       "      <td>0.000000</td>\n",
       "      <td>7.0</td>\n",
       "      <td>8.807950</td>\n",
       "      <td>75.0</td>\n",
       "      <td>65.0</td>\n",
       "      <td>1011.8</td>\n",
       "      <td>0.0</td>\n",
       "      <td>0.0</td>\n",
       "      <td>N</td>\n",
       "    </tr>\n",
       "    <tr>\n",
       "      <th>29100</th>\n",
       "      <td>6/30/2015 23:00</td>\n",
       "      <td>Bronx</td>\n",
       "      <td>3.000000</td>\n",
       "      <td>7.0</td>\n",
       "      <td>8.823051</td>\n",
       "      <td>75.0</td>\n",
       "      <td>65.0</td>\n",
       "      <td>1011.8</td>\n",
       "      <td>0.0</td>\n",
       "      <td>0.0</td>\n",
       "      <td>N</td>\n",
       "    </tr>\n",
       "  </tbody>\n",
       "</table>\n",
       "<p>29101 rows × 11 columns</p>\n",
       "</div>"
      ],
      "text/plain": [
       "             pickup_dt        borough      pickups  spd        vsb  temp  \\\n",
       "0        1/1/2015 1:00          Bronx   445.846928  5.0  10.000000  30.0   \n",
       "1        1/1/2015 1:00       Brooklyn   445.846928  5.0  10.000000  30.0   \n",
       "2        1/1/2015 1:00            EWR   445.846928  5.0  10.000000  30.0   \n",
       "3        1/1/2015 1:00      Manhattan   445.846928  5.0  10.000000  30.0   \n",
       "4        1/1/2015 1:00         Queens   445.846928  5.0  10.000000  30.0   \n",
       "...                ...            ...          ...  ...        ...   ...   \n",
       "29096  6/30/2015 23:00            EWR     0.000000  7.0   8.808227  75.0   \n",
       "29097  6/30/2015 23:00      Manhattan  3828.000000  7.0   8.808227  75.0   \n",
       "29098  6/30/2015 23:00         Queens   580.000000  7.0   8.808227  75.0   \n",
       "29099  6/30/2015 23:00  Staten Island     0.000000  7.0   8.807950  75.0   \n",
       "29100  6/30/2015 23:00          Bronx     3.000000  7.0   8.823051  75.0   \n",
       "\n",
       "       dewp     slp  pcp24   sd hday  \n",
       "0       7.0  1023.5    0.0  0.0    Y  \n",
       "1       7.0  1023.5    0.0  0.0    Y  \n",
       "2       7.0  1023.5    0.0  0.0    Y  \n",
       "3       7.0  1023.5    0.0  0.0    Y  \n",
       "4       7.0  1023.5    0.0  0.0    Y  \n",
       "...     ...     ...    ...  ...  ...  \n",
       "29096  65.0  1011.8    0.0  0.0    N  \n",
       "29097  65.0  1011.8    0.0  0.0    N  \n",
       "29098  65.0  1011.8    0.0  0.0    N  \n",
       "29099  65.0  1011.8    0.0  0.0    N  \n",
       "29100  65.0  1011.8    0.0  0.0    N  \n",
       "\n",
       "[29101 rows x 11 columns]"
      ]
     },
     "execution_count": 21,
     "metadata": {},
     "output_type": "execute_result"
    }
   ],
   "source": [
    "df1 = df1.drop(columns =['pcp01','pcp06'])\n",
    "df1"
   ]
  },
  {
   "cell_type": "markdown",
   "id": "459fde48",
   "metadata": {},
   "source": [
    "We also observed that the pickup_date column has every information about the day, month, year, pickup time stored in 1 cell and therefore we extracted specific information such as month, day, hour and made separate coloumns to perform a detail analysis of the data"
   ]
  },
  {
   "cell_type": "code",
   "execution_count": 22,
   "id": "153c144d",
   "metadata": {},
   "outputs": [
    {
     "data": {
      "text/plain": [
       "<AxesSubplot:>"
      ]
     },
     "execution_count": 22,
     "metadata": {},
     "output_type": "execute_result"
    },
    {
     "data": {
      "image/png": "[encoded data removed]",
      "text/plain": [
       "<Figure size 1080x576 with 1 Axes>"
      ]
     },
     "metadata": {
      "needs_background": "light"
     },
     "output_type": "display_data"
    }
   ],
   "source": [
    "plt.figure(figsize=(15,8))\n",
    "df1.corr()['pickups'].sort_values(ascending = False).plot(kind='bar')"
   ]
  },
  {
   "cell_type": "markdown",
   "id": "97078dc4",
   "metadata": {},
   "source": [
    "### Extracting month, day, hour information and creating separate columns in the dataset for the time analysis"
   ]
  },
  {
   "cell_type": "code",
   "execution_count": 23,
   "id": "41e28920",
   "metadata": {},
   "outputs": [],
   "source": [
    "dt=df1.pickup_dt"
   ]
  },
  {
   "cell_type": "code",
   "execution_count": 30,
   "id": "1c95abf6",
   "metadata": {},
   "outputs": [],
   "source": [
    "#Extracting month of pickup from pickup_dt\n",
    "month = []\n",
    "for i in dt:\n",
    "    t = datetime.datetime.strptime(i, \"%m/%d/%Y %H:%M\").strftime('%m')\n",
    "    month.append(t)"
   ]
  },
  {
   "cell_type": "code",
   "execution_count": 32,
   "id": "fceb6b52",
   "metadata": {},
   "outputs": [],
   "source": [
    "#Extracting day of pickup from pickup_dt\n",
    "day = []\n",
    "for i in dt:\n",
    "    p = datetime.datetime.strptime(i, \"%m/%d/%Y %H:%M\").strftime('%A')\n",
    "    day.append(p)"
   ]
  },
  {
   "cell_type": "code",
   "execution_count": 35,
   "id": "2bcf0d18",
   "metadata": {},
   "outputs": [],
   "source": [
    "#Extracting time(hour) of pickup from pickup_dt\n",
    "time = []\n",
    "for i in dt:\n",
    "    t = datetime.datetime.strptime(i, \"%m/%d/%Y %H:%M\").strftime('%H')\n",
    "    time.append(t)"
   ]
  },
  {
   "cell_type": "code",
   "execution_count": 37,
   "id": "f2c8e242",
   "metadata": {
    "scrolled": true
   },
   "outputs": [],
   "source": [
    "#Adding new coloumn of month to the main dataframe \n",
    "month=pd.DataFrame(month)\n",
    "df1['month'] = pd.DataFrame(month)"
   ]
  },
  {
   "cell_type": "code",
   "execution_count": 38,
   "id": "f9a768c6",
   "metadata": {},
   "outputs": [],
   "source": [
    "#Adding new column of day to the main dataframe\n",
    "weekday=pd.DataFrame(day)\n",
    "df1['day'] = pd.DataFrame(day)"
   ]
  },
  {
   "cell_type": "code",
   "execution_count": 39,
   "id": "2ee7177e",
   "metadata": {
    "scrolled": true
   },
   "outputs": [],
   "source": [
    "#Adding new column time(hour) to the main dataframe\n",
    "hour=pd.DataFrame(time)\n",
    "df1['time'] = pd.DataFrame(time)"
   ]
  },
  {
   "cell_type": "code",
   "execution_count": 40,
   "id": "6a06f368",
   "metadata": {},
   "outputs": [
    {
     "data": {
      "text/html": [
       "<div>\n",
       "<style scoped>\n",
       "    .dataframe tbody tr th:only-of-type {\n",
       "        vertical-align: middle;\n",
       "    }\n",
       "\n",
       "    .dataframe tbody tr th {\n",
       "        vertical-align: top;\n",
       "    }\n",
       "\n",
       "    .dataframe thead th {\n",
       "        text-align: right;\n",
       "    }\n",
       "</style>\n",
       "<table border=\"1\" class=\"dataframe\">\n",
       "  <thead>\n",
       "    <tr style=\"text-align: right;\">\n",
       "      <th></th>\n",
       "      <th>pickup_dt</th>\n",
       "      <th>borough</th>\n",
       "      <th>pickups</th>\n",
       "      <th>spd</th>\n",
       "      <th>vsb</th>\n",
       "      <th>temp</th>\n",
       "      <th>dewp</th>\n",
       "      <th>slp</th>\n",
       "      <th>pcp24</th>\n",
       "      <th>sd</th>\n",
       "      <th>hday</th>\n",
       "      <th>month</th>\n",
       "      <th>day</th>\n",
       "      <th>time</th>\n",
       "    </tr>\n",
       "  </thead>\n",
       "  <tbody>\n",
       "    <tr>\n",
       "      <th>0</th>\n",
       "      <td>1/1/2015 1:00</td>\n",
       "      <td>Bronx</td>\n",
       "      <td>445.846928</td>\n",
       "      <td>5.0</td>\n",
       "      <td>10.000000</td>\n",
       "      <td>30.0</td>\n",
       "      <td>7.0</td>\n",
       "      <td>1023.5</td>\n",
       "      <td>0.0</td>\n",
       "      <td>0.0</td>\n",
       "      <td>Y</td>\n",
       "      <td>01</td>\n",
       "      <td>Thursday</td>\n",
       "      <td>01</td>\n",
       "    </tr>\n",
       "    <tr>\n",
       "      <th>1</th>\n",
       "      <td>1/1/2015 1:00</td>\n",
       "      <td>Brooklyn</td>\n",
       "      <td>445.846928</td>\n",
       "      <td>5.0</td>\n",
       "      <td>10.000000</td>\n",
       "      <td>30.0</td>\n",
       "      <td>7.0</td>\n",
       "      <td>1023.5</td>\n",
       "      <td>0.0</td>\n",
       "      <td>0.0</td>\n",
       "      <td>Y</td>\n",
       "      <td>01</td>\n",
       "      <td>Thursday</td>\n",
       "      <td>01</td>\n",
       "    </tr>\n",
       "    <tr>\n",
       "      <th>2</th>\n",
       "      <td>1/1/2015 1:00</td>\n",
       "      <td>EWR</td>\n",
       "      <td>445.846928</td>\n",
       "      <td>5.0</td>\n",
       "      <td>10.000000</td>\n",
       "      <td>30.0</td>\n",
       "      <td>7.0</td>\n",
       "      <td>1023.5</td>\n",
       "      <td>0.0</td>\n",
       "      <td>0.0</td>\n",
       "      <td>Y</td>\n",
       "      <td>01</td>\n",
       "      <td>Thursday</td>\n",
       "      <td>01</td>\n",
       "    </tr>\n",
       "    <tr>\n",
       "      <th>3</th>\n",
       "      <td>1/1/2015 1:00</td>\n",
       "      <td>Manhattan</td>\n",
       "      <td>445.846928</td>\n",
       "      <td>5.0</td>\n",
       "      <td>10.000000</td>\n",
       "      <td>30.0</td>\n",
       "      <td>7.0</td>\n",
       "      <td>1023.5</td>\n",
       "      <td>0.0</td>\n",
       "      <td>0.0</td>\n",
       "      <td>Y</td>\n",
       "      <td>01</td>\n",
       "      <td>Thursday</td>\n",
       "      <td>01</td>\n",
       "    </tr>\n",
       "    <tr>\n",
       "      <th>4</th>\n",
       "      <td>1/1/2015 1:00</td>\n",
       "      <td>Queens</td>\n",
       "      <td>445.846928</td>\n",
       "      <td>5.0</td>\n",
       "      <td>10.000000</td>\n",
       "      <td>30.0</td>\n",
       "      <td>7.0</td>\n",
       "      <td>1023.5</td>\n",
       "      <td>0.0</td>\n",
       "      <td>0.0</td>\n",
       "      <td>Y</td>\n",
       "      <td>01</td>\n",
       "      <td>Thursday</td>\n",
       "      <td>01</td>\n",
       "    </tr>\n",
       "    <tr>\n",
       "      <th>...</th>\n",
       "      <td>...</td>\n",
       "      <td>...</td>\n",
       "      <td>...</td>\n",
       "      <td>...</td>\n",
       "      <td>...</td>\n",
       "      <td>...</td>\n",
       "      <td>...</td>\n",
       "      <td>...</td>\n",
       "      <td>...</td>\n",
       "      <td>...</td>\n",
       "      <td>...</td>\n",
       "      <td>...</td>\n",
       "      <td>...</td>\n",
       "      <td>...</td>\n",
       "    </tr>\n",
       "    <tr>\n",
       "      <th>29096</th>\n",
       "      <td>6/30/2015 23:00</td>\n",
       "      <td>EWR</td>\n",
       "      <td>0.000000</td>\n",
       "      <td>7.0</td>\n",
       "      <td>8.808227</td>\n",
       "      <td>75.0</td>\n",
       "      <td>65.0</td>\n",
       "      <td>1011.8</td>\n",
       "      <td>0.0</td>\n",
       "      <td>0.0</td>\n",
       "      <td>N</td>\n",
       "      <td>06</td>\n",
       "      <td>Tuesday</td>\n",
       "      <td>23</td>\n",
       "    </tr>\n",
       "    <tr>\n",
       "      <th>29097</th>\n",
       "      <td>6/30/2015 23:00</td>\n",
       "      <td>Manhattan</td>\n",
       "      <td>3828.000000</td>\n",
       "      <td>7.0</td>\n",
       "      <td>8.808227</td>\n",
       "      <td>75.0</td>\n",
       "      <td>65.0</td>\n",
       "      <td>1011.8</td>\n",
       "      <td>0.0</td>\n",
       "      <td>0.0</td>\n",
       "      <td>N</td>\n",
       "      <td>06</td>\n",
       "      <td>Tuesday</td>\n",
       "      <td>23</td>\n",
       "    </tr>\n",
       "    <tr>\n",
       "      <th>29098</th>\n",
       "      <td>6/30/2015 23:00</td>\n",
       "      <td>Queens</td>\n",
       "      <td>580.000000</td>\n",
       "      <td>7.0</td>\n",
       "      <td>8.808227</td>\n",
       "      <td>75.0</td>\n",
       "      <td>65.0</td>\n",
       "      <td>1011.8</td>\n",
       "      <td>0.0</td>\n",
       "      <td>0.0</td>\n",
       "      <td>N</td>\n",
       "      <td>06</td>\n",
       "      <td>Tuesday</td>\n",
       "      <td>23</td>\n",
       "    </tr>\n",
       "    <tr>\n",
       "      <th>29099</th>\n",
       "      <td>6/30/2015 23:00</td>\n",
       "      <td>Staten Island</td>\n",
       "      <td>0.000000</td>\n",
       "      <td>7.0</td>\n",
       "      <td>8.807950</td>\n",
       "      <td>75.0</td>\n",
       "      <td>65.0</td>\n",
       "      <td>1011.8</td>\n",
       "      <td>0.0</td>\n",
       "      <td>0.0</td>\n",
       "      <td>N</td>\n",
       "      <td>06</td>\n",
       "      <td>Tuesday</td>\n",
       "      <td>23</td>\n",
       "    </tr>\n",
       "    <tr>\n",
       "      <th>29100</th>\n",
       "      <td>6/30/2015 23:00</td>\n",
       "      <td>Bronx</td>\n",
       "      <td>3.000000</td>\n",
       "      <td>7.0</td>\n",
       "      <td>8.823051</td>\n",
       "      <td>75.0</td>\n",
       "      <td>65.0</td>\n",
       "      <td>1011.8</td>\n",
       "      <td>0.0</td>\n",
       "      <td>0.0</td>\n",
       "      <td>N</td>\n",
       "      <td>06</td>\n",
       "      <td>Tuesday</td>\n",
       "      <td>23</td>\n",
       "    </tr>\n",
       "  </tbody>\n",
       "</table>\n",
       "<p>29101 rows × 14 columns</p>\n",
       "</div>"
      ],
      "text/plain": [
       "             pickup_dt        borough      pickups  spd        vsb  temp  \\\n",
       "0        1/1/2015 1:00          Bronx   445.846928  5.0  10.000000  30.0   \n",
       "1        1/1/2015 1:00       Brooklyn   445.846928  5.0  10.000000  30.0   \n",
       "2        1/1/2015 1:00            EWR   445.846928  5.0  10.000000  30.0   \n",
       "3        1/1/2015 1:00      Manhattan   445.846928  5.0  10.000000  30.0   \n",
       "4        1/1/2015 1:00         Queens   445.846928  5.0  10.000000  30.0   \n",
       "...                ...            ...          ...  ...        ...   ...   \n",
       "29096  6/30/2015 23:00            EWR     0.000000  7.0   8.808227  75.0   \n",
       "29097  6/30/2015 23:00      Manhattan  3828.000000  7.0   8.808227  75.0   \n",
       "29098  6/30/2015 23:00         Queens   580.000000  7.0   8.808227  75.0   \n",
       "29099  6/30/2015 23:00  Staten Island     0.000000  7.0   8.807950  75.0   \n",
       "29100  6/30/2015 23:00          Bronx     3.000000  7.0   8.823051  75.0   \n",
       "\n",
       "       dewp     slp  pcp24   sd hday month       day time  \n",
       "0       7.0  1023.5    0.0  0.0    Y    01  Thursday   01  \n",
       "1       7.0  1023.5    0.0  0.0    Y    01  Thursday   01  \n",
       "2       7.0  1023.5    0.0  0.0    Y    01  Thursday   01  \n",
       "3       7.0  1023.5    0.0  0.0    Y    01  Thursday   01  \n",
       "4       7.0  1023.5    0.0  0.0    Y    01  Thursday   01  \n",
       "...     ...     ...    ...  ...  ...   ...       ...  ...  \n",
       "29096  65.0  1011.8    0.0  0.0    N    06   Tuesday   23  \n",
       "29097  65.0  1011.8    0.0  0.0    N    06   Tuesday   23  \n",
       "29098  65.0  1011.8    0.0  0.0    N    06   Tuesday   23  \n",
       "29099  65.0  1011.8    0.0  0.0    N    06   Tuesday   23  \n",
       "29100  65.0  1011.8    0.0  0.0    N    06   Tuesday   23  \n",
       "\n",
       "[29101 rows x 14 columns]"
      ]
     },
     "execution_count": 40,
     "metadata": {},
     "output_type": "execute_result"
    }
   ],
   "source": [
    "df1"
   ]
  },
  {
   "cell_type": "markdown",
   "id": "4ed18e5c",
   "metadata": {},
   "source": [
    "# Visualizations"
   ]
  },
  {
   "cell_type": "markdown",
   "id": "79c7ab78",
   "metadata": {},
   "source": [
    "## Change lable size "
   ]
  },
  {
   "cell_type": "markdown",
   "id": "4458f16a",
   "metadata": {},
   "source": [
    "## 1. PIE CHART \n",
    "Since we were given pickup information on different boroughs in the New York City, we decided to find out the market share\n",
    "of Uber pickups in the different boroughs to find out the range of the demand for Uber"
   ]
  },
  {
   "cell_type": "code",
   "execution_count": 41,
   "id": "2ce75f42",
   "metadata": {
    "scrolled": true
   },
   "outputs": [
    {
     "data": {
      "image/png": "[encoded data removed]",
      "text/plain": [
       "<Figure size 648x648 with 1 Axes>"
      ]
     },
     "metadata": {},
     "output_type": "display_data"
    }
   ],
   "source": [
    "#Pie chart showing distribution of pickups by borough\n",
    "\n",
    "colors = ['yellowgreen', 'lightgreen', 'darkgreen', 'gold', 'red', 'lightsalmon', 'darkred']\n",
    "total_pickups = df1.groupby('borough')['pickups'].sum()/df1.pickups.sum()*100\n",
    "locations = df1.borough.unique()\n",
    "labels = list(locations)\n",
    "labels\n",
    "plt.figure(figsize=(9,9))\n",
    "plt.pie(total_pickups, labels = labels, colors = colors,startangle=90, autopct='%1.1f%%', shadow=True, radius =2)\n",
    "plt.axis('equal')\n",
    "plt.legend()\n",
    "plt.show()\n"
   ]
  },
  {
   "cell_type": "markdown",
   "id": "343c5720",
   "metadata": {},
   "source": [
    "The pie chart gives us the distribution of market share of Uber pickups in New York city\n",
    "1. Manhattan has the maximum share of pickups in the city almost 73% of all the pickups in the city\n",
    "2. Bronx borrough has the minimum pickups in the city\n",
    "3. We observed that EWR has zero pickups which is strange but then after diving deep into the problem\n",
    "   we found out that EWR data was majorly missing in the dataset and therefore the graph was showing 0%\n",
    "4. Brookyln has the second highest pickups in the city "
   ]
  },
  {
   "cell_type": "code",
   "execution_count": 42,
   "id": "5a48ad2c",
   "metadata": {},
   "outputs": [
    {
     "data": {
      "text/plain": [
       "borough\n",
       "Bronx            2.726281e+05\n",
       "Brooklyn         2.311628e+06\n",
       "EWR              4.562469e+03\n",
       "Manhattan        1.033308e+07\n",
       "Queens           1.342203e+06\n",
       "Staten Island    1.135947e+04\n",
       "Name: pickups, dtype: float64"
      ]
     },
     "execution_count": 42,
     "metadata": {},
     "output_type": "execute_result"
    }
   ],
   "source": [
    "df5 = (df1.groupby(['borough'])['pickups'].sum()) \n",
    "df5"
   ]
  },
  {
   "cell_type": "markdown",
   "id": "f09c0eb6",
   "metadata": {},
   "source": [
    "We tried to find out the number of EWR pickups and it turns out that there is not much data of EWR provided in the dataset (0.3%) and therefore the market share is almost 0%\n"
   ]
  },
  {
   "cell_type": "markdown",
   "id": "08951172",
   "metadata": {},
   "source": [
    "## 2. BOXPLOT\n",
    "Next we wanted to understand the distribution of pickups in the different boroughs of New York to better understand the demand "
   ]
  },
  {
   "cell_type": "code",
   "execution_count": 43,
   "id": "94840c4c",
   "metadata": {
    "scrolled": true
   },
   "outputs": [],
   "source": [
    "df6 = df1[(df1['borough'] == (\"Manhattan\"))]\n",
    "loc = df6.borough.unique()"
   ]
  },
  {
   "cell_type": "code",
   "execution_count": 44,
   "id": "529526bc",
   "metadata": {
    "scrolled": false
   },
   "outputs": [
    {
     "name": "stderr",
     "output_type": "stream",
     "text": [
      "/Users/akshaygoyal/opt/anaconda3/lib/python3.9/site-packages/seaborn/_decorators.py:36: FutureWarning: Pass the following variables as keyword args: x, y. From version 0.12, the only valid positional argument will be `data`, and passing other arguments without an explicit keyword will result in an error or misinterpretation.\n",
      "  warnings.warn(\n"
     ]
    },
    {
     "data": {
      "text/plain": [
       "Text(0.5, 1.0, 'Pickups in Manhattan borough')"
      ]
     },
     "execution_count": 44,
     "metadata": {},
     "output_type": "execute_result"
    },
    {
     "data": {
      "image/png": "[encoded data removed]",
      "text/plain": [
       "<Figure size 1008x720 with 1 Axes>"
      ]
     },
     "metadata": {
      "needs_background": "light"
     },
     "output_type": "display_data"
    }
   ],
   "source": [
    "plt.figure(figsize=(14, 10))\n",
    "x = df6.borough\n",
    "y = df6.pickups\n",
    "# make boxplot with Seaborn\n",
    "sns.boxplot(x, y, data=df1)\n",
    "# Set labels and title\n",
    "plt.ylabel(\"Pickups\", size=16)\n",
    "plt.xlabel(\"Borough\", size=16)\n",
    "plt.title(\"Pickups in Manhattan borough\", size=18)"
   ]
  },
  {
   "cell_type": "markdown",
   "id": "af699b9a",
   "metadata": {},
   "source": [
    "1. The median value of the number of pickups in Manhattan is around 2300 \n",
    "2. 25th percentile indicates that 25% of the pickups lie below 1100\n",
    "3. 50th percentile indicates that 50% of the pickups lie below 2300\n",
    "4. 75th percentile indicates that 75% of the pickups lie below 3200\n",
    "5. Minimum is zero pickups and maximum value is around 6500 pickups\n",
    "6. The outliers are shown as the black dots after the 75th percentile"
   ]
  },
  {
   "cell_type": "markdown",
   "id": "d90ace2b",
   "metadata": {},
   "source": [
    "# 3. BAR CHART"
   ]
  },
  {
   "cell_type": "code",
   "execution_count": 45,
   "id": "9906b08e",
   "metadata": {},
   "outputs": [],
   "source": [
    "df2 = df1.copy()"
   ]
  },
  {
   "cell_type": "code",
   "execution_count": 46,
   "id": "00b4668c",
   "metadata": {
    "scrolled": true
   },
   "outputs": [
    {
     "data": {
      "image/png": "[encoded data removed]",
      "text/plain": [
       "<Figure size 720x360 with 1 Axes>"
      ]
     },
     "metadata": {
      "needs_background": "light"
     },
     "output_type": "display_data"
    }
   ],
   "source": [
    "#Pickups on different days\n",
    "fig = plt.figure(figsize = (10, 5))\n",
    " \n",
    "# creating the bar plot\n",
    "plt.bar(df1['day'],df1['pickups'], color ='maroon',width = 0.4) \n",
    "plt.xlabel(\"Days of the week\")\n",
    "plt.ylabel(\"No. of pickups\")\n",
    "plt.title(\"Number of pickups on different days\")\n",
    "plt.show()"
   ]
  },
  {
   "cell_type": "markdown",
   "id": "96a5f19d",
   "metadata": {},
   "source": [
    "1. Observing the pickup on different days we can say that from Monday onwards there is a gradual increase in the pickups and it stays the same for Wednesday and Thursday. \n",
    "2. The number of pickups reach the maxima on Friday, this might be because many people are traveling to and fro for work in different cities and they tend to return to their cities which exlains the maxima\n",
    "3. During holidays, most people tend to go out more on Saturday and as Sunday comes the number of pickups decrease \n"
   ]
  },
  {
   "cell_type": "markdown",
   "id": "fecf9809",
   "metadata": {},
   "source": [
    "# 4. HEAT MAP"
   ]
  },
  {
   "cell_type": "code",
   "execution_count": 47,
   "id": "023a94a3",
   "metadata": {
    "scrolled": false
   },
   "outputs": [
    {
     "data": {
      "image/png": "[encoded data removed]",
      "text/plain": [
       "<Figure size 432x288 with 2 Axes>"
      ]
     },
     "metadata": {},
     "output_type": "display_data"
    }
   ],
   "source": [
    "#Pickups depending on time\n",
    "import seaborn as sns \n",
    "sns.set()\n",
    "row = df1.groupby('time')['pickups'].mean()\n",
    "columns=df1.time.unique()\n",
    "mapi=pd.DataFrame(row, columns)\n",
    "\n",
    "# Default heatmap\n",
    "p1 = sns.heatmap(mapi,linewidth = 0.5)"
   ]
  },
  {
   "cell_type": "code",
   "execution_count": null,
   "id": "1a9e266b",
   "metadata": {},
   "outputs": [],
   "source": [
    "1. The maximum number of pickups are observed during 5-11:00 pm\n",
    "2. Least number of pickups are observed in the time range of 1:00 - 5:00 am\n",
    "3. Moderate number of pickups are observed in the range of 1:00 pm - 3:00 pm\n",
    "\n",
    "This graph"
   ]
  },
  {
   "cell_type": "code",
   "execution_count": 48,
   "id": "b261b8cf",
   "metadata": {},
   "outputs": [],
   "source": [
    "df3 = df1.copy()"
   ]
  },
  {
   "cell_type": "code",
   "execution_count": 49,
   "id": "999406ff",
   "metadata": {},
   "outputs": [],
   "source": [
    "#Df with only non-holidays\n",
    "delete_row = df3[df3[\"hday\"]=='Y'].index\n",
    "df3 = df3.drop(delete_row)"
   ]
  },
  {
   "cell_type": "code",
   "execution_count": 50,
   "id": "8e6489ec",
   "metadata": {},
   "outputs": [],
   "source": [
    "df4 = df1.copy()"
   ]
  },
  {
   "cell_type": "code",
   "execution_count": 51,
   "id": "104e9751",
   "metadata": {
    "scrolled": true
   },
   "outputs": [],
   "source": [
    "#Df with only holidays\n",
    "delete_row = df3[df3[\"hday\"]=='N'].index\n",
    "df4 = df4.drop(delete_row)"
   ]
  },
  {
   "cell_type": "code",
   "execution_count": 146,
   "id": "9db1d548",
   "metadata": {
    "scrolled": true
   },
   "outputs": [
    {
     "data": {
      "image/png": "[encoded data removed]",
      "text/plain": [
       "<Figure size 864x360 with 1 Axes>"
      ]
     },
     "metadata": {
      "needs_background": "light"
     },
     "output_type": "display_data"
    }
   ],
   "source": [
    "hr = df1.time.unique()\n",
    "noholiday = df3.groupby('time')['pickups'].mean()\n",
    "holiday = df4.groupby('time')['pickups'].mean()\n",
    "\n",
    "barWidth = 0.4\n",
    "fig = plt.subplots(figsize =(12, 5))\n",
    "\n",
    "br1 = np.arange(24)\n",
    "br2 = [x + barWidth for x in br1]\n",
    "\n",
    "\n",
    "# creating the bar plot\n",
    "\n",
    "plt.bar(br1,noholiday , color ='r', width = barWidth,\n",
    "        edgecolor ='grey', label ='noholiday')\n",
    "plt.bar(br2,holiday , color ='y', width = barWidth,\n",
    "        edgecolor ='grey', label ='holiday')\n",
    "\n",
    "plt.xlabel('Time of the day', fontweight ='bold', fontsize = 15)\n",
    "plt.ylabel('Mean of pickups', fontweight ='bold', fontsize = 15)\n",
    "plt.xticks([r + barWidth for r in range(len(hr))],\n",
    "           ['1', '2', '3', '4', '5','6','7','8','9','10','11','12','13','14','15','16','17','18','19',\n",
    "              '20','21','22','23','0'])\n",
    " \n",
    "plt.legend()\n",
    "plt.show()"
   ]
  },
  {
   "cell_type": "markdown",
   "id": "ca74de7f",
   "metadata": {},
   "source": [
    "1. During the working days(no holiday):\n",
    "- We observe that the number of pickups increase from 7:00 am and reach a peak at 11:00am as most of the\n",
    "people will be travelling to work during these hours\n",
    "- Again, we observe a linear upwards trend from 3:00 o clock in the evening till reaching its maxima at 8:00 pm \n",
    "as most of th people will now be leaving their offices\n",
    "- It starts showing a downaward decreasing movement from 8:00pm to 4:00 am in the morning\n",
    "\n",
    "2. During the holidays:\n",
    "- The time from 1:00 AM to 6:00 AM the number of pickups were more than the days when there was no holiday which was an interesting observation. People tend to go outside more on holidays and therefore this trend is observed \n",
    "\n",
    "3. The most demand for Ubers during the day are from 7:00 am till 11:00 am in the morning and \n",
    "from 6:00 pm to 8:00 pm in the evening during the working days\n",
    "\n",
    "4. During the holidays, the trend for demand is the same as that of non holidays with one exception there is a higher demand in the night time also from 1:00AM till 6:00 AM \n",
    "\n",
    "Business strategy: During the peak hours, there are many people travelling to and from work and New York has the \n",
    "maximum immigrant population working in the top MNCs so the demand will always exccedd the supply during the peak hours\n",
    "Therefore we can devise a strategy to providr a small peak hour bonus per ride to the drivers who will be working in those hours to get maximum cars on the road thereby increasing the profits.\n",
    "\n",
    "During the holidays, we need more drivers in the nightime from 1:00 AM till 6:00 AM than a normal working day, similarly holiday hours bonus can be provided to meet the demand on the holidays.\n"
   ]
  },
  {
   "cell_type": "markdown",
   "id": "8700147c",
   "metadata": {},
   "source": [
    "# 5. SCATTER PLOT"
   ]
  },
  {
   "cell_type": "code",
   "execution_count": 52,
   "id": "ae269482",
   "metadata": {
    "scrolled": false
   },
   "outputs": [
    {
     "name": "stderr",
     "output_type": "stream",
     "text": [
      "*c* argument looks like a single numeric RGB or RGBA sequence, which should be avoided as value-mapping will have precedence in case its length matches with *x* & *y*.  Please use the *color* keyword-argument or provide a 2D array with a single row if you intend to specify the same RGB or RGBA value for all points.\n"
     ]
    },
    {
     "data": {
      "image/png": "[encoded data removed]",
      "text/plain": [
       "<Figure size 1080x504 with 1 Axes>"
      ]
     },
     "metadata": {},
     "output_type": "display_data"
    }
   ],
   "source": [
    "df1.plot.scatter(x='pcp24', y='pickups', figsize=(15,7));"
   ]
  },
  {
   "cell_type": "markdown",
   "id": "77928c8b",
   "metadata": {},
   "source": [
    "Observing the graph we can say that the number of pickups decrease as the rainfall increase.\n",
    "Maximum pickups are observed in the range 0- 0.8 and then it starts to decrease significantly.\n",
    "But this is an opportunity as the demand still says the same. Generally its observed that there is a surge in the prices \n",
    "during the rainy days as the number of drivers are less on the road.\n",
    "\n",
    "Weather forecast can be done ahead of time so that we exactly know what will be the demand in the upcoming days and devise\n",
    "strategies accordingly to attract more drivers. This will help us earn more revenue and increase the customer satisfication\n",
    "as they won't need to pay the surge price which generally happens during the rainy days."
   ]
  },
  {
   "cell_type": "markdown",
   "id": "7fc94995",
   "metadata": {},
   "source": [
    "# 6. HISTOGRAM"
   ]
  },
  {
   "cell_type": "code",
   "execution_count": 54,
   "id": "6945c620",
   "metadata": {
    "scrolled": true
   },
   "outputs": [
    {
     "data": {
      "text/plain": [
       "(array([ 739., 4115., 6908., 4622., 5525., 4916., 2276.]),\n",
       " array([ 2.        , 14.42857143, 26.85714286, 39.28571429, 51.71428571,\n",
       "        64.14285714, 76.57142857, 89.        ]),\n",
       " <BarContainer object of 7 artists>)"
      ]
     },
     "execution_count": 54,
     "metadata": {},
     "output_type": "execute_result"
    },
    {
     "data": {
      "image/png": "[encoded data removed]",
      "text/plain": [
       "<Figure size 432x288 with 1 Axes>"
      ]
     },
     "metadata": {},
     "output_type": "display_data"
    }
   ],
   "source": [
    "plt.hist(df1['temp'], bins = 7)"
   ]
  },
  {
   "cell_type": "markdown",
   "id": "510f4269",
   "metadata": {},
   "source": [
    "New York experiences a varied range of temperature.\n",
    "1. Maximum number of days the temp range was between 23-40 F. It must be the winter season\n",
    "2. During the summers, the temp ranhe was between 50-80 F\n",
    "\n",
    "To better understand how temperature plays a role in deciding th number of pickups we decided to plot a line chart based upon the waether conditions and pickup"
   ]
  },
  {
   "cell_type": "markdown",
   "id": "82a4dc31",
   "metadata": {},
   "source": [
    "# 7. LINE PLOT"
   ]
  },
  {
   "cell_type": "markdown",
   "id": "cb93f57f",
   "metadata": {},
   "source": [
    "We seggrgeated the temp range in 3 separate groups(cold, moderate, hot) and added a new coloumn in the dataset called new_temp"
   ]
  },
  {
   "cell_type": "code",
   "execution_count": 55,
   "id": "560e7a22",
   "metadata": {},
   "outputs": [],
   "source": [
    "new_t = []\n",
    "tem = df1.temp\n",
    "tem\n",
    "for i in df1['temp']:\n",
    "    if i <= 50:\n",
    "        new_t.append('cold')\n",
    "    elif i <=73:\n",
    "        new_t.append('moderate')\n",
    "    else:\n",
    "        new_t.append('hot')"
   ]
  },
  {
   "cell_type": "code",
   "execution_count": 58,
   "id": "7f1fc74b",
   "metadata": {},
   "outputs": [
    {
     "data": {
      "text/html": [
       "<div>\n",
       "<style scoped>\n",
       "    .dataframe tbody tr th:only-of-type {\n",
       "        vertical-align: middle;\n",
       "    }\n",
       "\n",
       "    .dataframe tbody tr th {\n",
       "        vertical-align: top;\n",
       "    }\n",
       "\n",
       "    .dataframe thead th {\n",
       "        text-align: right;\n",
       "    }\n",
       "</style>\n",
       "<table border=\"1\" class=\"dataframe\">\n",
       "  <thead>\n",
       "    <tr style=\"text-align: right;\">\n",
       "      <th></th>\n",
       "      <th>pickup_dt</th>\n",
       "      <th>borough</th>\n",
       "      <th>pickups</th>\n",
       "      <th>spd</th>\n",
       "      <th>vsb</th>\n",
       "      <th>temp</th>\n",
       "      <th>dewp</th>\n",
       "      <th>slp</th>\n",
       "      <th>pcp24</th>\n",
       "      <th>sd</th>\n",
       "      <th>hday</th>\n",
       "      <th>month</th>\n",
       "      <th>day</th>\n",
       "      <th>time</th>\n",
       "      <th>new_temp</th>\n",
       "    </tr>\n",
       "  </thead>\n",
       "  <tbody>\n",
       "    <tr>\n",
       "      <th>0</th>\n",
       "      <td>1/1/2015 1:00</td>\n",
       "      <td>Bronx</td>\n",
       "      <td>445.846928</td>\n",
       "      <td>5.0</td>\n",
       "      <td>10.000000</td>\n",
       "      <td>30.0</td>\n",
       "      <td>7.0</td>\n",
       "      <td>1023.5</td>\n",
       "      <td>0.0</td>\n",
       "      <td>0.0</td>\n",
       "      <td>Y</td>\n",
       "      <td>01</td>\n",
       "      <td>Thursday</td>\n",
       "      <td>01</td>\n",
       "      <td>cold</td>\n",
       "    </tr>\n",
       "    <tr>\n",
       "      <th>1</th>\n",
       "      <td>1/1/2015 1:00</td>\n",
       "      <td>Brooklyn</td>\n",
       "      <td>445.846928</td>\n",
       "      <td>5.0</td>\n",
       "      <td>10.000000</td>\n",
       "      <td>30.0</td>\n",
       "      <td>7.0</td>\n",
       "      <td>1023.5</td>\n",
       "      <td>0.0</td>\n",
       "      <td>0.0</td>\n",
       "      <td>Y</td>\n",
       "      <td>01</td>\n",
       "      <td>Thursday</td>\n",
       "      <td>01</td>\n",
       "      <td>cold</td>\n",
       "    </tr>\n",
       "    <tr>\n",
       "      <th>2</th>\n",
       "      <td>1/1/2015 1:00</td>\n",
       "      <td>EWR</td>\n",
       "      <td>445.846928</td>\n",
       "      <td>5.0</td>\n",
       "      <td>10.000000</td>\n",
       "      <td>30.0</td>\n",
       "      <td>7.0</td>\n",
       "      <td>1023.5</td>\n",
       "      <td>0.0</td>\n",
       "      <td>0.0</td>\n",
       "      <td>Y</td>\n",
       "      <td>01</td>\n",
       "      <td>Thursday</td>\n",
       "      <td>01</td>\n",
       "      <td>cold</td>\n",
       "    </tr>\n",
       "    <tr>\n",
       "      <th>3</th>\n",
       "      <td>1/1/2015 1:00</td>\n",
       "      <td>Manhattan</td>\n",
       "      <td>445.846928</td>\n",
       "      <td>5.0</td>\n",
       "      <td>10.000000</td>\n",
       "      <td>30.0</td>\n",
       "      <td>7.0</td>\n",
       "      <td>1023.5</td>\n",
       "      <td>0.0</td>\n",
       "      <td>0.0</td>\n",
       "      <td>Y</td>\n",
       "      <td>01</td>\n",
       "      <td>Thursday</td>\n",
       "      <td>01</td>\n",
       "      <td>cold</td>\n",
       "    </tr>\n",
       "    <tr>\n",
       "      <th>4</th>\n",
       "      <td>1/1/2015 1:00</td>\n",
       "      <td>Queens</td>\n",
       "      <td>445.846928</td>\n",
       "      <td>5.0</td>\n",
       "      <td>10.000000</td>\n",
       "      <td>30.0</td>\n",
       "      <td>7.0</td>\n",
       "      <td>1023.5</td>\n",
       "      <td>0.0</td>\n",
       "      <td>0.0</td>\n",
       "      <td>Y</td>\n",
       "      <td>01</td>\n",
       "      <td>Thursday</td>\n",
       "      <td>01</td>\n",
       "      <td>cold</td>\n",
       "    </tr>\n",
       "    <tr>\n",
       "      <th>...</th>\n",
       "      <td>...</td>\n",
       "      <td>...</td>\n",
       "      <td>...</td>\n",
       "      <td>...</td>\n",
       "      <td>...</td>\n",
       "      <td>...</td>\n",
       "      <td>...</td>\n",
       "      <td>...</td>\n",
       "      <td>...</td>\n",
       "      <td>...</td>\n",
       "      <td>...</td>\n",
       "      <td>...</td>\n",
       "      <td>...</td>\n",
       "      <td>...</td>\n",
       "      <td>...</td>\n",
       "    </tr>\n",
       "    <tr>\n",
       "      <th>29096</th>\n",
       "      <td>6/30/2015 23:00</td>\n",
       "      <td>EWR</td>\n",
       "      <td>0.000000</td>\n",
       "      <td>7.0</td>\n",
       "      <td>8.808227</td>\n",
       "      <td>75.0</td>\n",
       "      <td>65.0</td>\n",
       "      <td>1011.8</td>\n",
       "      <td>0.0</td>\n",
       "      <td>0.0</td>\n",
       "      <td>N</td>\n",
       "      <td>06</td>\n",
       "      <td>Tuesday</td>\n",
       "      <td>23</td>\n",
       "      <td>hot</td>\n",
       "    </tr>\n",
       "    <tr>\n",
       "      <th>29097</th>\n",
       "      <td>6/30/2015 23:00</td>\n",
       "      <td>Manhattan</td>\n",
       "      <td>3828.000000</td>\n",
       "      <td>7.0</td>\n",
       "      <td>8.808227</td>\n",
       "      <td>75.0</td>\n",
       "      <td>65.0</td>\n",
       "      <td>1011.8</td>\n",
       "      <td>0.0</td>\n",
       "      <td>0.0</td>\n",
       "      <td>N</td>\n",
       "      <td>06</td>\n",
       "      <td>Tuesday</td>\n",
       "      <td>23</td>\n",
       "      <td>hot</td>\n",
       "    </tr>\n",
       "    <tr>\n",
       "      <th>29098</th>\n",
       "      <td>6/30/2015 23:00</td>\n",
       "      <td>Queens</td>\n",
       "      <td>580.000000</td>\n",
       "      <td>7.0</td>\n",
       "      <td>8.808227</td>\n",
       "      <td>75.0</td>\n",
       "      <td>65.0</td>\n",
       "      <td>1011.8</td>\n",
       "      <td>0.0</td>\n",
       "      <td>0.0</td>\n",
       "      <td>N</td>\n",
       "      <td>06</td>\n",
       "      <td>Tuesday</td>\n",
       "      <td>23</td>\n",
       "      <td>hot</td>\n",
       "    </tr>\n",
       "    <tr>\n",
       "      <th>29099</th>\n",
       "      <td>6/30/2015 23:00</td>\n",
       "      <td>Staten Island</td>\n",
       "      <td>0.000000</td>\n",
       "      <td>7.0</td>\n",
       "      <td>8.807950</td>\n",
       "      <td>75.0</td>\n",
       "      <td>65.0</td>\n",
       "      <td>1011.8</td>\n",
       "      <td>0.0</td>\n",
       "      <td>0.0</td>\n",
       "      <td>N</td>\n",
       "      <td>06</td>\n",
       "      <td>Tuesday</td>\n",
       "      <td>23</td>\n",
       "      <td>hot</td>\n",
       "    </tr>\n",
       "    <tr>\n",
       "      <th>29100</th>\n",
       "      <td>6/30/2015 23:00</td>\n",
       "      <td>Bronx</td>\n",
       "      <td>3.000000</td>\n",
       "      <td>7.0</td>\n",
       "      <td>8.823051</td>\n",
       "      <td>75.0</td>\n",
       "      <td>65.0</td>\n",
       "      <td>1011.8</td>\n",
       "      <td>0.0</td>\n",
       "      <td>0.0</td>\n",
       "      <td>N</td>\n",
       "      <td>06</td>\n",
       "      <td>Tuesday</td>\n",
       "      <td>23</td>\n",
       "      <td>hot</td>\n",
       "    </tr>\n",
       "  </tbody>\n",
       "</table>\n",
       "<p>29101 rows × 15 columns</p>\n",
       "</div>"
      ],
      "text/plain": [
       "             pickup_dt        borough      pickups  spd        vsb  temp  \\\n",
       "0        1/1/2015 1:00          Bronx   445.846928  5.0  10.000000  30.0   \n",
       "1        1/1/2015 1:00       Brooklyn   445.846928  5.0  10.000000  30.0   \n",
       "2        1/1/2015 1:00            EWR   445.846928  5.0  10.000000  30.0   \n",
       "3        1/1/2015 1:00      Manhattan   445.846928  5.0  10.000000  30.0   \n",
       "4        1/1/2015 1:00         Queens   445.846928  5.0  10.000000  30.0   \n",
       "...                ...            ...          ...  ...        ...   ...   \n",
       "29096  6/30/2015 23:00            EWR     0.000000  7.0   8.808227  75.0   \n",
       "29097  6/30/2015 23:00      Manhattan  3828.000000  7.0   8.808227  75.0   \n",
       "29098  6/30/2015 23:00         Queens   580.000000  7.0   8.808227  75.0   \n",
       "29099  6/30/2015 23:00  Staten Island     0.000000  7.0   8.807950  75.0   \n",
       "29100  6/30/2015 23:00          Bronx     3.000000  7.0   8.823051  75.0   \n",
       "\n",
       "       dewp     slp  pcp24   sd hday month       day time new_temp  \n",
       "0       7.0  1023.5    0.0  0.0    Y    01  Thursday   01     cold  \n",
       "1       7.0  1023.5    0.0  0.0    Y    01  Thursday   01     cold  \n",
       "2       7.0  1023.5    0.0  0.0    Y    01  Thursday   01     cold  \n",
       "3       7.0  1023.5    0.0  0.0    Y    01  Thursday   01     cold  \n",
       "4       7.0  1023.5    0.0  0.0    Y    01  Thursday   01     cold  \n",
       "...     ...     ...    ...  ...  ...   ...       ...  ...      ...  \n",
       "29096  65.0  1011.8    0.0  0.0    N    06   Tuesday   23      hot  \n",
       "29097  65.0  1011.8    0.0  0.0    N    06   Tuesday   23      hot  \n",
       "29098  65.0  1011.8    0.0  0.0    N    06   Tuesday   23      hot  \n",
       "29099  65.0  1011.8    0.0  0.0    N    06   Tuesday   23      hot  \n",
       "29100  65.0  1011.8    0.0  0.0    N    06   Tuesday   23      hot  \n",
       "\n",
       "[29101 rows x 15 columns]"
      ]
     },
     "execution_count": 58,
     "metadata": {},
     "output_type": "execute_result"
    }
   ],
   "source": [
    "n_t=pd.DataFrame(new_t)\n",
    "df1['new_temp'] = pd.DataFrame(new_t)\n",
    "df1"
   ]
  },
  {
   "cell_type": "code",
   "execution_count": 59,
   "id": "85d0eec5",
   "metadata": {
    "scrolled": true
   },
   "outputs": [
    {
     "data": {
      "image/png": "[encoded data removed]",
      "text/plain": [
       "<Figure size 432x288 with 1 Axes>"
      ]
     },
     "metadata": {},
     "output_type": "display_data"
    }
   ],
   "source": [
    "day = df1.new_temp.unique()\n",
    "tot_pickups = df1.groupby('new_temp')['pickups'].mean()\n",
    "plt.plot(day,tot_pickups,label = \"Pickups on different Temp\")\n",
    "plt.title(\"Pickups depending on Temp\")\n",
    "plt.xlabel(\"Weather \")\n",
    "plt.ylabel(\"Total pickups\")\n",
    "plt.ylim([0, 800])\n",
    "plt.legend(loc='best')\n",
    "plt.show()"
   ]
  },
  {
   "cell_type": "markdown",
   "id": "7d11202d",
   "metadata": {},
   "source": [
    "1. Weather plays a major role in deciding the number of pickups. In both the extreme hot and cold weathers the number of \n",
    "pickups starts decreasing. \n",
    "2. Maximum pickups are during the moderate weather.  One of the reason can be not many people tend to go outside during \n",
    "extreme weather conditions and therefore the demand will be less. "
   ]
  }
 ],
 "metadata": {
  "kernelspec": {
   "display_name": "Python 3 (ipykernel)",
   "language": "python",
   "name": "python3"
  },
  "language_info": {
   "codemirror_mode": {
    "name": "ipython",
    "version": 3
   },
   "file_extension": ".py",
   "mimetype": "text/x-python",
   "name": "python",
   "nbconvert_exporter": "python",
   "pygments_lexer": "ipython3",
   "version": "3.9.7"
  }
 },
 "nbformat": 4,
 "nbformat_minor": 5
}
